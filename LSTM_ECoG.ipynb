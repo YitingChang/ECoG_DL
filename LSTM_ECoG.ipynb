{
  "cells": [
    {
      "cell_type": "code",
      "execution_count": 1,
      "metadata": {
        "id": "3a267892"
      },
      "outputs": [],
      "source": [
        "import os, requests\n",
        "import numpy as np\n",
        "import matplotlib.pyplot as plt\n",
        "import time\n",
        "import random\n",
        "import scipy\n",
        "\n",
        "import torch\n",
        "import torch.nn as nn\n",
        "import torch.nn.functional as F\n",
        "import torch.nn as nn\n",
        "import torch.optim as optim\n",
        "\n",
        "from keras.models import Sequential\n",
        "from keras.layers import Dense, LSTM, SimpleRNN, GRU, Activation, Dropout"
      ],
      "id": "3a267892"
    },
    {
      "cell_type": "code",
      "execution_count": null,
      "metadata": {
        "id": "gXNruiD-nrik"
      },
      "outputs": [],
      "source": [
        "import tensorflow as tf\n",
        "device_name = tf.test.gpu_device_name()\n",
        "if device_name != '/device:GPU:0':\n",
        "  raise SystemError('GPU device not found')\n",
        "print('Found GPU at: {}'.format(device_name))"
      ],
      "id": "gXNruiD-nrik"
    },
    {
      "cell_type": "code",
      "execution_count": 2,
      "metadata": {
        "id": "23938fbb"
      },
      "outputs": [],
      "source": [
        "# For DL its critical to set the random seed so that students can have a\n",
        "# baseline to compare their results to expected results.\n",
        "# Read more here: https://pytorch.org/docs/stable/notes/randomness.html\n",
        "\n",
        "# Call `set_seed` function in the exercises to ensure reproducibility.\n",
        "\n",
        "\n",
        "def set_seed(seed=None, seed_torch=True):\n",
        "  \"\"\"\n",
        "  Function that controls randomness. NumPy and random modules must be imported.\n",
        "\n",
        "  Args:\n",
        "    seed : Integer\n",
        "      A non-negative integer that defines the random state. Default is `None`.\n",
        "    seed_torch : Boolean\n",
        "      If `True` sets the random seed for pytorch tensors, so pytorch module\n",
        "      must be imported. Default is `True`.\n",
        "\n",
        "  Returns:\n",
        "    Nothing.\n",
        "  \"\"\"\n",
        "  if seed is None:\n",
        "    seed = np.random.choice(2 ** 32)\n",
        "  random.seed(seed)\n",
        "  np.random.seed(seed)\n",
        "  if seed_torch:\n",
        "    torch.manual_seed(seed)\n",
        "    torch.cuda.manual_seed_all(seed)\n",
        "    torch.cuda.manual_seed(seed)\n",
        "    torch.backends.cudnn.benchmark = False\n",
        "    torch.backends.cudnn.deterministic = True\n",
        "\n",
        "  print(f'Random seed {seed} has been set.')\n",
        "\n",
        "\n",
        "# In case that `DataLoader` is used\n",
        "def seed_worker(worker_id):\n",
        "  \"\"\"\n",
        "  DataLoader will reseed workers following randomness in\n",
        "  multi-process data loading algorithm.\n",
        "\n",
        "  Args:\n",
        "    worker_id: integer\n",
        "      ID of subprocess to seed. 0 means that\n",
        "      the data will be loaded in the main process\n",
        "      Refer: https://pytorch.org/docs/stable/data.html#data-loading-randomness for more details\n",
        "\n",
        "  Returns:\n",
        "    Nothing\n",
        "  \"\"\"\n",
        "  worker_seed = torch.initial_seed() % 2**32\n",
        "  np.random.seed(worker_seed)\n",
        "  random.seed(worker_seed)"
      ],
      "id": "23938fbb"
    },
    {
      "cell_type": "code",
      "execution_count": 3,
      "metadata": {
        "colab": {
          "base_uri": "https://localhost:8080/"
        },
        "id": "4b7a605d",
        "outputId": "e4b63672-987a-426e-fa52-8a8d3e0f034f"
      },
      "outputs": [
        {
          "output_type": "stream",
          "name": "stdout",
          "text": [
            "Random seed 145 has been set.\n"
          ]
        }
      ],
      "source": [
        "SEED = 145\n",
        "set_seed(seed=SEED)"
      ],
      "id": "4b7a605d"
    },
    {
      "cell_type": "code",
      "execution_count": 4,
      "metadata": {
        "id": "1c1e8e44"
      },
      "outputs": [],
      "source": [
        "#@title Data retrieval\n",
        "fname = 'joystick_track.npz'\n",
        "url = \"https://osf.io/6jncm/download\"\n",
        "\n",
        "if not os.path.isfile(fname):\n",
        "  try:\n",
        "    r = requests.get(url)\n",
        "  except requests.ConnectionError:\n",
        "    print(\"!!! Failed to download data !!!\")\n",
        "  else:\n",
        "    if r.status_code != requests.codes.ok:\n",
        "      print(\"!!! Failed to download data !!!\")\n",
        "    else:\n",
        "      with open(fname, \"wb\") as fid:\n",
        "        fid.write(r.content)"
      ],
      "id": "1c1e8e44"
    },
    {
      "cell_type": "code",
      "execution_count": 5,
      "metadata": {
        "colab": {
          "base_uri": "https://localhost:8080/"
        },
        "id": "f8b6a401",
        "outputId": "10f4d2ab-7246-4b05-c784-5a050dedf2dd"
      },
      "outputs": [
        {
          "output_type": "stream",
          "name": "stdout",
          "text": [
            "dict_keys(['V', 'targetX', 'targetY', 'cursorX', 'cursorY', 'locs', 'hemisphere', 'lobe', 'gyrus', 'Brodmann_Area'])\n"
          ]
        }
      ],
      "source": [
        "# @title Data loading\n",
        "\n",
        "alldat = np.load(fname, allow_pickle=True)['dat'] # Total: 4 patients\n",
        "\n",
        "# Select just one of the recordings here. This is block 1, subject 3.\n",
        "dat = alldat[0][2]\n",
        "\n",
        "print(dat.keys())"
      ],
      "id": "f8b6a401"
    },
    {
      "cell_type": "code",
      "execution_count": 7,
      "metadata": {
        "id": "44efc59e"
      },
      "outputs": [],
      "source": [
        "def select_brain_regions(data, selected_BA):\n",
        "    '''\n",
        "    args:\n",
        "        data(dict): dict_keys(['V', 'targetX', 'targetY', 'cursorX', 'cursorY',\n",
        "                                'locs', 'hemisphere', 'lobe', 'gyrus', 'Brodmann_Area'])\n",
        "        selected_BA(list): a list of Brodmann Area numbers\n",
        "    retuns:\n",
        "        new_data(dict): dict_keys(['V', 'cursorX', 'cursorY'])\n",
        "    '''\n",
        "\n",
        "    Brodmann_Area = data['Brodmann_Area']\n",
        "    BA_num = [ int(x[14:]) for x in Brodmann_Area ] # get Brodmann Area number\n",
        "    is_selected = [i in selected_BA for i in BA_num]\n",
        "    new_V = data['V'][:,is_selected].astype(np.float32) # ECog voltage (time x channel)\n",
        "    new_data = {'V': new_V, 'cursorX': data['cursorX'], 'cursorY': data['cursorY'] }\n",
        "\n",
        "    return new_data"
      ],
      "id": "44efc59e"
    },
    {
      "cell_type": "code",
      "execution_count": null,
      "metadata": {
        "id": "da7602fa"
      },
      "outputs": [],
      "source": [
        "# Get data from the electrodes in somatosensory and motor areas\n",
        "\n",
        "# Brodmann area location and function\n",
        "# https://www.simplypsychology.org/brodmann-areas.html\n",
        "# Brodmann areas 1, 2 & 3 : Primary somatosensory Cortex (postcentral gyrus)\n",
        "# Brodmann area 4 : Primary Motor Cortex (precentral gyrus)\n",
        "# Brodmann area 5 : Somatosensory Association Cortex (superior parietal lobule)\n",
        "# Brodmann area 6 : Premotor Cortex and Supplementary Motor Cortex\n",
        "# Brodmann area 7 : Somatosensory Association Cortex\n",
        "# Brodmann area 8 : Frontal eye fields\n",
        "\n",
        "selected_BA = np.arange(9) # select Brodmann area 1 to 8\n",
        "dat = select_brain_regions(dat, selected_BA)\n"
      ],
      "id": "da7602fa"
    },
    {
      "cell_type": "code",
      "execution_count": null,
      "metadata": {
        "id": "76548851"
      },
      "outputs": [],
      "source": [
        "def filter_signal(data, freq_band, sample_rate, order = 4):\n",
        "    '''\n",
        "    args:\n",
        "        data(dict): dict_keys(['V', 'cursorX', 'cursorY'...)\n",
        "        freq_band (list): frequence band for filtering ([lowcut, highcut])\n",
        "        sample_rate (int): sample rate (in Hz)\n",
        "        order (int): 4 (default)\n",
        "    retuns:\n",
        "        new_data(dict): dict_keys(['filtered_V', 'cursorX', 'cursorY'])\n",
        "    '''\n",
        "    nyquistFreq = sample_rate*0.5\n",
        "    # The Nyquist frequency is the highest frequency that equipment of a given sample rate can reliably measure,\n",
        "    # one-half the given sample rate.\n",
        "    low  = freq_band[0] / nyquistFreq\n",
        "    high = freq_band[1] / nyquistFreq\n",
        "\n",
        "    b, a = scipy.signal.butter(order, [low, high], btype='bandpass')\n",
        "\n",
        "    V = data['V']\n",
        "    nt, nchan = V.shape\n",
        "\n",
        "    new_V = np.zeros_like(V)\n",
        "    for i in range(nchan):\n",
        "        new_V[:,i] = scipy.signal.filtfilt(b, a, V[:, i])\n",
        "\n",
        "    new_data = {'V': new_V, 'cursorX': data['cursorX'], 'cursorY': data['cursorY'] }\n",
        "\n",
        "    return new_data"
      ],
      "id": "76548851"
    },
    {
      "cell_type": "code",
      "execution_count": null,
      "metadata": {
        "id": "ab000056"
      },
      "outputs": [],
      "source": [
        "# Filter ecog\n",
        "# Beta rhythms (13-30 Hz)\n",
        "# sample_rate = 1000\n",
        "# freq_band = [10, 50]\n",
        "# dat = filter_signal(dat, freq_band, sample_rate)\n"
      ],
      "id": "ab000056"
    },
    {
      "cell_type": "code",
      "source": [
        "def create_snips(data, window_len, stride_len, sample_rate):\n",
        "    '''\n",
        "    args:\n",
        "        data(dict): dict_keys(['V', 'cursorX', 'cursorY'])\n",
        "        window_len (int): length of time window (in ms)\n",
        "        stride_len (int): length of stride (in ms)\n",
        "        sample_rate (int): sample rate (in Hz)\n",
        "\n",
        "    returns:\n",
        "        X: neural data (a 3D matrix, # of samples x # of bin in window_len  x # of channel)\n",
        "        Y: label (a 2D matrix, # of smaples x # of coordinates)\n",
        "    '''\n",
        "    bin_size = 1000/sample_rate # ms\n",
        "    V = data['V'].astype(np.float32) #ECoG recording (time x channel)\n",
        "    nt, nchan = V.shape\n",
        "    num_bin_window = int(window_len/bin_size)\n",
        "    assert len(data['cursorX']) == nt\n",
        "    assert len(data['cursorX']) == len(data['cursorY'])\n",
        "    indices = [(i, i + num_bin_window) for i in list(range(0, nt - num_bin_window +1, int(stride_len/bin_size)))]\n",
        "\n",
        "    # normalize cursor X and Y\n",
        "    normalized_cursorX = data['cursorX']/np.max(data['cursorX'])\n",
        "    normalized_cursorY = data['cursorY']/np.max(data['cursorY'])\n",
        "\n",
        "    num_samples = len(indices)\n",
        "    #Initialize X and Y matrix\n",
        "    X = np.empty([num_samples,num_bin_window,nchan])\n",
        "    X[:] = np.NaN\n",
        "    Y = np.empty([num_samples,2])\n",
        "    Y[:] = np.NaN\n",
        "\n",
        "    for i, indx in enumerate(indices):\n",
        "        X[i,:,:] = V[indx[0]:indx[1], :]\n",
        "        Y[i,0] = normalized_cursorX[indx[1], 0]\n",
        "        Y[i,1] = normalized_cursorY[indx[1], 0]\n",
        "\n",
        "    return X, Y"
      ],
      "metadata": {
        "id": "1QeLWEVhwDY7"
      },
      "id": "1QeLWEVhwDY7",
      "execution_count": 6,
      "outputs": []
    },
    {
      "cell_type": "code",
      "execution_count": 7,
      "metadata": {
        "id": "ea2ee499"
      },
      "outputs": [],
      "source": [
        "#screen refresh rate ~ 20Hz. So stride > 50ms.\n",
        "sample_rate = 1000 # (in Hz)\n",
        "window_len = 500 # (in ms)\n",
        "stride_len = 100 # (in ms)\n",
        "num_overlapping_bin = int(window_len/stride_len)\n",
        "X, Y = create_snips(dat, window_len, stride_len, sample_rate)"
      ],
      "id": "ea2ee499"
    },
    {
      "cell_type": "markdown",
      "metadata": {
        "id": "3349610c"
      },
      "source": [
        "**Splitting the data into train, test and validation sets - 80% train, 10% test and 10% validation. Then, doing a 10 fold Cross Validation...so in the first fold, for example, 0-10% is validation, 10-20% is testing, and 20-100% is training.**"
      ],
      "id": "3349610c"
    },
    {
      "cell_type": "code",
      "execution_count": 8,
      "metadata": {
        "id": "09c6f033"
      },
      "outputs": [],
      "source": [
        "valid_range_all=[[0,.1],[.1,.2],[.2,.3],[.3,.4],[.4,.5],\n",
        "                     [.5,.6],[.6,.7],[.7,.8],[.8,.9],[.9,1]]\n",
        "testing_range_all=[[.1,.2],[.2,.3],[.3,.4],[.4,.5],[.5,.6],\n",
        "                     [.6,.7],[.7,.8],[.8,.9],[.9,1],[0,.1]]\n",
        "#Note that the training set is not aways contiguous. For example, in the second fold, the training set has 0-10% and 30-100%.\n",
        "#In that example, we enter of list of lists: [[0,.1],[.3,1]]\n",
        "training_range_all=[[[.2,1]],[[0,.1],[.3,1]],[[0,.2],[.4,1]],[[0,.3],[.5,1]],[[0,.4],[.6,1]],\n",
        "                       [[0,.5],[.7,1]],[[0,.6],[.8,1]],[[0,.7],[.9,1]],[[0,.8]],[[.1,.9]]]\n",
        "\n",
        "num_folds=len(valid_range_all) #Number of cross validation folds\n",
        "\n",
        "#R2 values\n",
        "mean_r2_lstm=np.empty(num_folds)"
      ],
      "id": "09c6f033"
    },
    {
      "cell_type": "code",
      "execution_count": 9,
      "metadata": {
        "colab": {
          "base_uri": "https://localhost:8080/"
        },
        "id": "209b399f",
        "outputId": "f71f2650-efca-479b-e2c9-0676eb8acc45"
      },
      "outputs": [
        {
          "output_type": "stream",
          "name": "stdout",
          "text": [
            "1339\n"
          ]
        }
      ],
      "source": [
        "#Actual data\n",
        "y_test_all=[]\n",
        "y_train_all=[]\n",
        "y_valid_all=[]\n",
        "\n",
        "#Test predictions\n",
        "y_pred_lstm_all=[]\n",
        "dec_error_all = []\n",
        "\n",
        "#Training predictions\n",
        "y_train_pred_lstm_all=[]\n",
        "\n",
        "#Validation predictions\n",
        "y_valid_pred_lstm_all=[]\n",
        "\n",
        "t1 = time.time()  # If I want to keep track of how much time has elapsed\n",
        "\n",
        "num_examples = len(X)  # number of examples\n",
        "print(num_examples)\n"
      ],
      "id": "209b399f"
    },
    {
      "cell_type": "code",
      "execution_count": 10,
      "metadata": {
        "id": "a2a6268a"
      },
      "outputs": [],
      "source": [
        "class LSTMRegression(object):\n",
        "\n",
        "    \"\"\"\n",
        "    Class for the LSTM decoder for  Regression\n",
        "\n",
        "    Parameters\n",
        "    ----------\n",
        "    units: integer, optional, default 400\n",
        "        Number of hidden units in each layer\n",
        "\n",
        "    dropout: decimal, optional, default 0.2\n",
        "        Proportion of units that get dropped out\n",
        "\n",
        "    num_epochs: integer, optional, default 10\n",
        "        Number of epochs used for training\n",
        "\n",
        "    verbose: binary, optional, default=0\n",
        "        Whether to show progress of the fit after each epoch\n",
        "    \"\"\"\n",
        "\n",
        "    def __init__(self,units=400,dropout=0.2,num_epochs=10,verbose=0):\n",
        "         self.units=units\n",
        "         self.dropout=dropout\n",
        "         self.num_epochs=num_epochs\n",
        "         self.verbose=verbose\n",
        "\n",
        "\n",
        "    def fit(self,X_train,y_train):\n",
        "\n",
        "        \"\"\"\n",
        "        Train LSTM Decoder\n",
        "\n",
        "        Parameters\n",
        "        ----------\n",
        "        X_train: numpy 3d array of shape [n_samples,n_time_bins,n_channels]\n",
        "            This is the neural data.\n",
        "            See example file for an example of how to format the neural data correctly\n",
        "\n",
        "        y_train: numpy 2d array of shape [n_samples, n_outputs]\n",
        "            This is the outputs that are being predicted\n",
        "        \"\"\"\n",
        "\n",
        "        model=Sequential() #Declare model\n",
        "        #Add recurrent layer\n",
        "        model.add(LSTM(self.units,input_shape=(X_train.shape[1],X_train.shape[2]),dropout=self.dropout,recurrent_dropout=self.dropout)) #Within recurrent layer, include dropout\n",
        "        if self.dropout!=0:\n",
        "            model.add(Dropout(self.dropout)) #Dropout some units (recurrent layer output units)\n",
        "\n",
        "        #Add dense connections to output layer\n",
        "        model.add(Dense(y_train.shape[1]))\n",
        "\n",
        "        #Fit model (and set fitting parameters)\n",
        "        model.compile(loss='mse',optimizer='rmsprop',metrics=['accuracy']) #Set loss function and optimizer\n",
        "        model.fit(X_train,y_train,epochs=self.num_epochs,verbose=self.verbose) #Fit the model\n",
        "        self.model=model\n",
        "\n",
        "\n",
        "    def predict(self,X_test):\n",
        "\n",
        "        \"\"\"\n",
        "        Predict outcomes using trained LSTM Decoder\n",
        "\n",
        "        Parameters\n",
        "        ----------\n",
        "        X_test: numpy 3d array of shape [n_samples,n_time_bins,n_neurons]\n",
        "            This is the neural data being used to predict outputs.\n",
        "\n",
        "        Returns\n",
        "        -------\n",
        "        y_test_predicted: numpy 2d array of shape [n_samples,n_outputs]\n",
        "            The predicted outputs\n",
        "        \"\"\"\n",
        "\n",
        "        y_test_predicted = self.model.predict(X_test) #Make predictions\n",
        "        return y_test_predicted"
      ],
      "id": "a2a6268a"
    },
    {
      "cell_type": "code",
      "execution_count": 11,
      "metadata": {
        "id": "c537ae80"
      },
      "outputs": [],
      "source": [
        "def get_R2(y_test,y_test_pred):\n",
        "\n",
        "    \"\"\"\n",
        "    Function to get R2\n",
        "\n",
        "    Parameters\n",
        "    ----------\n",
        "    y_test - the true outputs (a matrix of size number of examples x number of outputs)\n",
        "    y_test_pred - the predicted outputs (a matrix of size number of examples x number of outputs)\n",
        "\n",
        "    Returns\n",
        "    -------\n",
        "    R2_array: An array of R2s for each output\n",
        "    \"\"\"\n",
        "\n",
        "    R2_list=[] #Initialize a list that will contain the R2s for all the outputs\n",
        "    for i in range(y_test.shape[1]): #Loop through outputs\n",
        "        #Compute R2 for each output\n",
        "        y_mean=np.mean(y_test[:,i])\n",
        "        R2=1-np.sum((y_test_pred[:,i]-y_test[:,i])**2)/np.sum((y_test[:,i]-y_mean)**2)\n",
        "        R2_list.append(R2) #Append R2 of this output to the list\n",
        "    R2_array=np.array(R2_list)\n",
        "    return R2_array #Return an array of R2s"
      ],
      "id": "c537ae80"
    },
    {
      "cell_type": "code",
      "execution_count": 25,
      "metadata": {
        "id": "-tMSKfeD1CGx"
      },
      "outputs": [],
      "source": [
        "# Use the fold \"0\" to find hyperparameters\n",
        "i=0\n",
        "######### SPLIT DATA INTO TRAINING/TESTING/VALIDATION #########\n",
        "# Get testing set for this fold\n",
        "# testing_range = testing_range_all[i]\n",
        "# testing_set = np.arange(int(np.round(testing_range[0] * num_examples)) + num_overlapping_bin,\n",
        "#                         int(np.round(testing_range[1] * num_examples)))\n",
        "\n",
        "# Get validation set for this fold\n",
        "valid_range = valid_range_all[i]\n",
        "valid_set = np.arange(int(np.round(valid_range[0] * num_examples)) + num_overlapping_bin,\n",
        "                        int(np.round(valid_range[1] * num_examples)))\n",
        "\n",
        "# Get training set for this fold.\n",
        "# Note this needs to take into account a non-contiguous training set (see section 3C)\n",
        "training_ranges = training_range_all[i]\n",
        "for j in range(len(training_ranges)):  # Go through different separated portions of the training set\n",
        "    training_range = training_ranges[j]\n",
        "    if j == 0:  # If it's the first portion of the training set, make it the training set\n",
        "        training_set = np.arange(int(np.round(training_range[0] * num_examples)) + num_overlapping_bin,\n",
        "                                    int(np.round(training_range[1] * num_examples)))\n",
        "    if j == 1:  # If it's the second portion of the training set, concatentate it to the first\n",
        "        training_set_temp = np.arange(int(np.round(training_range[0] * num_examples)) + num_overlapping_bin,\n",
        "                                        int(np.round(training_range[1] * num_examples)))\n",
        "        training_set = np.concatenate((training_set, training_set_temp), axis=0)\n",
        "\n",
        "# Get training data\n",
        "X_train = X[training_set, :]\n",
        "y_train = Y[training_set, :]\n",
        "\n",
        "# # Get testing data\n",
        "# X_test = X[testing_set, :]\n",
        "# y_test = Y[testing_set, :, cursor_axis]\n",
        "\n",
        "# Get validation data\n",
        "X_valid = X[valid_set, :]\n",
        "y_valid = Y[valid_set, :]"
      ],
      "id": "-tMSKfeD1CGx"
    },
    {
      "cell_type": "code",
      "execution_count": 26,
      "metadata": {
        "id": "7PkUO2UAr5z9"
      },
      "outputs": [],
      "source": [
        "### Get hyperparameters using Bayesian optimization based on validation set R2 values###\n",
        "# Define a function that returns the metric we are trying to optimize (R2 value of the validation set)\n",
        "# as a function of the hyperparameter we are fitting\n",
        "def lstm_evaluate(num_units, frac_dropout, n_epochs):\n",
        "    num_units = int(num_units)\n",
        "    frac_dropout = float(frac_dropout)\n",
        "    n_epochs = int(n_epochs)\n",
        "    model_lstm = LSTMRegression(units=num_units, dropout=frac_dropout, num_epochs=n_epochs)\n",
        "    model_lstm.fit(X_train, y_train)\n",
        "    y_valid_predicted_lstm = model_lstm.predict(X_valid)\n",
        "    return np.mean(get_R2(y_valid, y_valid_predicted_lstm))\n"
      ],
      "id": "7PkUO2UAr5z9"
    },
    {
      "cell_type": "code",
      "execution_count": 27,
      "metadata": {
        "colab": {
          "base_uri": "https://localhost:8080/"
        },
        "id": "nlDghJq9wlOn",
        "outputId": "8e88f8c1-29ba-41ab-da9b-4ef166de1ef0"
      },
      "outputs": [
        {
          "output_type": "stream",
          "name": "stdout",
          "text": [
            "Requirement already satisfied: bayesian-optimization in /usr/local/lib/python3.10/dist-packages (1.4.3)\n",
            "Requirement already satisfied: numpy>=1.9.0 in /usr/local/lib/python3.10/dist-packages (from bayesian-optimization) (1.23.5)\n",
            "Requirement already satisfied: scipy>=1.0.0 in /usr/local/lib/python3.10/dist-packages (from bayesian-optimization) (1.11.4)\n",
            "Requirement already satisfied: scikit-learn>=0.18.0 in /usr/local/lib/python3.10/dist-packages (from bayesian-optimization) (1.2.2)\n",
            "Requirement already satisfied: colorama>=0.4.6 in /usr/local/lib/python3.10/dist-packages (from bayesian-optimization) (0.4.6)\n",
            "Requirement already satisfied: joblib>=1.1.1 in /usr/local/lib/python3.10/dist-packages (from scikit-learn>=0.18.0->bayesian-optimization) (1.3.2)\n",
            "Requirement already satisfied: threadpoolctl>=2.0.0 in /usr/local/lib/python3.10/dist-packages (from scikit-learn>=0.18.0->bayesian-optimization) (3.2.0)\n"
          ]
        }
      ],
      "source": [
        "!pip install bayesian-optimization"
      ],
      "id": "nlDghJq9wlOn"
    },
    {
      "cell_type": "code",
      "execution_count": 28,
      "metadata": {
        "colab": {
          "base_uri": "https://localhost:8080/"
        },
        "id": "c_pj7r_uyaOC",
        "outputId": "80daca3e-a62b-4232-bdd7-daa39091bbe7"
      },
      "outputs": [
        {
          "output_type": "stream",
          "name": "stderr",
          "text": [
            "WARNING:tensorflow:Layer lstm_5 will not use cuDNN kernels since it doesn't meet the criteria. It will use a generic GPU kernel as fallback when running on GPU.\n"
          ]
        },
        {
          "output_type": "stream",
          "name": "stdout",
          "text": [
            "5/5 [==============================] - 1s 132ms/step\n"
          ]
        },
        {
          "output_type": "stream",
          "name": "stderr",
          "text": [
            "WARNING:tensorflow:Layer lstm_6 will not use cuDNN kernels since it doesn't meet the criteria. It will use a generic GPU kernel as fallback when running on GPU.\n"
          ]
        },
        {
          "output_type": "stream",
          "name": "stdout",
          "text": [
            "-1.0240648865545732 {'frac_dropout': 0.16680880188102962, 'n_epochs': 14.965840881958846, 'num_units': 20.043462430591056}\n",
            "5/5 [==============================] - 1s 135ms/step\n"
          ]
        },
        {
          "output_type": "stream",
          "name": "stderr",
          "text": [
            "WARNING:tensorflow:Layer lstm_7 will not use cuDNN kernels since it doesn't meet the criteria. It will use a generic GPU kernel as fallback when running on GPU.\n"
          ]
        },
        {
          "output_type": "stream",
          "name": "stdout",
          "text": [
            "-1.0895959985767467 {'frac_dropout': 0.15033615230573336, 'n_epochs': 16.217813630468463, 'num_units': 314.28982279620925}\n",
            "5/5 [==============================] - 1s 134ms/step\n",
            "-0.6805137867990374 {'frac_dropout': 0.18561428121378012, 'n_epochs': 13.830332686988193, 'num_units': 20.82415602250251}\n"
          ]
        },
        {
          "output_type": "stream",
          "name": "stderr",
          "text": [
            "WARNING:tensorflow:Layer lstm_8 will not use cuDNN kernels since it doesn't meet the criteria. It will use a generic GPU kernel as fallback when running on GPU.\n"
          ]
        },
        {
          "output_type": "stream",
          "name": "stdout",
          "text": [
            "5/5 [==============================] - 1s 128ms/step\n",
            "-0.7144827429284395 {'frac_dropout': 0.23833777802506084, 'n_epochs': 6.698448349412031, 'num_units': 303.75700328649316}\n"
          ]
        },
        {
          "output_type": "stream",
          "name": "stderr",
          "text": [
            "WARNING:tensorflow:Layer lstm_9 will not use cuDNN kernels since it doesn't meet the criteria. It will use a generic GPU kernel as fallback when running on GPU.\n"
          ]
        },
        {
          "output_type": "stream",
          "name": "stdout",
          "text": [
            "5/5 [==============================] - 1s 131ms/step\n",
            "-1.0821323933884042 {'frac_dropout': 0.09100594720186779, 'n_epochs': 4.800619952987914, 'num_units': 379.9753114093236}\n",
            "{'target': -0.6805137867990374, 'params': {'frac_dropout': 0.18561428121378012, 'n_epochs': 13.830332686988193, 'num_units': 20.82415602250251}}\n"
          ]
        }
      ],
      "source": [
        "# Bayesian optimization using \"set_gp_params\"\n",
        "\n",
        "# Passing acquisition function parameters or gaussian process parameters to maximize\n",
        "# is no longer supported. Instead,please use the \"set_gp_params\" method to set\n",
        "#  the gp params, and pass an instance of bayes_opt.util.UtilityFunction\n",
        "#  using the acquisition_function argument\n",
        "# https://github.com/bayesian-optimization/BayesianOptimization/blob/master/examples/advanced-tour.ipynb\n",
        "\n",
        "from bayes_opt import BayesianOptimization\n",
        "from bayes_opt import UtilityFunction\n",
        "\n",
        "optimizer = BayesianOptimization(\n",
        "    f=None,\n",
        "    pbounds={'num_units': (20, 400), 'frac_dropout': (0, .4), 'n_epochs': (2, 20)},\n",
        "    verbose=2,\n",
        "    random_state=1,\n",
        ")\n",
        "\n",
        "utility = UtilityFunction(kind=\"ucb\", kappa=2.5, xi=0.0)\n",
        "\n",
        "# next_point_to_probe = optimizer.suggest(utility)\n",
        "# print(\"Next point to probe is:\", next_point_to_probe)\n",
        "\n",
        "# target = lstm_evaluate(**next_point_to_probe)\n",
        "# print(\"Found the target value to be:\", target)\n",
        "\n",
        "# optimizer.register(\n",
        "#     params=next_point_to_probe,\n",
        "#     target=target,\n",
        "# )\n",
        "\n",
        "for _ in range(5):\n",
        "    next_point = optimizer.suggest(utility)\n",
        "    target = lstm_evaluate(**next_point)\n",
        "    optimizer.register(params=next_point, target=target)\n",
        "\n",
        "    print(target, next_point)\n",
        "print(optimizer.max)"
      ],
      "id": "c_pj7r_uyaOC"
    },
    {
      "cell_type": "code",
      "source": [
        "print(optimizer.max)"
      ],
      "metadata": {
        "colab": {
          "base_uri": "https://localhost:8080/"
        },
        "id": "AiPgIbKOOPPy",
        "outputId": "11abfe5e-00d1-4bf2-91ea-627aac9bee09"
      },
      "id": "AiPgIbKOOPPy",
      "execution_count": 29,
      "outputs": [
        {
          "output_type": "stream",
          "name": "stdout",
          "text": [
            "{'target': -0.6805137867990374, 'params': {'frac_dropout': 0.18561428121378012, 'n_epochs': 13.830332686988193, 'num_units': 20.82415602250251}}\n"
          ]
        }
      ]
    },
    {
      "cell_type": "code",
      "source": [
        "from google.colab import drive\n",
        "drive.mount('/content/drive')"
      ],
      "metadata": {
        "colab": {
          "base_uri": "https://localhost:8080/"
        },
        "id": "DeD6ZX19QVmD",
        "outputId": "197af1b7-b90e-41cd-98be-e3d74f646017"
      },
      "id": "DeD6ZX19QVmD",
      "execution_count": 12,
      "outputs": [
        {
          "output_type": "stream",
          "name": "stdout",
          "text": [
            "Mounted at /content/drive\n"
          ]
        }
      ]
    },
    {
      "cell_type": "code",
      "source": [
        "import pickle\n",
        "# save to Google drive\n",
        "filename = 'optimizer_all_channels'\n",
        "filehandler = open(filename, 'wb')\n",
        "pickle.dump(optimizer, filehandler)\n"
      ],
      "metadata": {
        "id": "PNNHd0lROsxr"
      },
      "id": "PNNHd0lROsxr",
      "execution_count": null,
      "outputs": []
    },
    {
      "cell_type": "code",
      "execution_count": null,
      "metadata": {
        "id": "P50gQil1myL2"
      },
      "outputs": [],
      "source": [
        "# Ten-fold validation"
      ],
      "id": "P50gQil1myL2"
    },
    {
      "cell_type": "code",
      "execution_count": 13,
      "metadata": {
        "id": "e4d58a4f",
        "colab": {
          "base_uri": "https://localhost:8080/",
          "height": 1000
        },
        "outputId": "1eae9b3f-7e1b-4d3e-ca8b-ff31a6a1bb0a"
      },
      "outputs": [
        {
          "metadata": {
            "tags": null
          },
          "name": "stderr",
          "output_type": "stream",
          "text": [
            "WARNING:tensorflow:Layer lstm will not use cuDNN kernels since it doesn't meet the criteria. It will use a generic GPU kernel as fallback when running on GPU.\n"
          ]
        },
        {
          "metadata": {
            "tags": null
          },
          "name": "stdout",
          "output_type": "stream",
          "text": [
            "5/5 [==============================] - 1s 140ms/step\n",
            "R2s: [0.50183685 0.50006501]\n",
            "34/34 [==============================] - 6s 175ms/step\n",
            "5/5 [==============================] - 1s 203ms/step\n"
          ]
        },
        {
          "metadata": {
            "tags": null
          },
          "name": "stderr",
          "output_type": "stream",
          "text": [
            "WARNING:tensorflow:Layer lstm_1 will not use cuDNN kernels since it doesn't meet the criteria. It will use a generic GPU kernel as fallback when running on GPU.\n"
          ]
        },
        {
          "output_type": "stream",
          "name": "stdout",
          "text": [
            "5/5 [==============================] - 1s 132ms/step\n",
            "R2s: [0.54861544 0.16184634]\n",
            "34/34 [==============================] - 5s 160ms/step\n",
            "5/5 [==============================] - 1s 134ms/step\n"
          ]
        },
        {
          "output_type": "stream",
          "name": "stderr",
          "text": [
            "WARNING:tensorflow:Layer lstm_2 will not use cuDNN kernels since it doesn't meet the criteria. It will use a generic GPU kernel as fallback when running on GPU.\n"
          ]
        },
        {
          "output_type": "stream",
          "name": "stdout",
          "text": [
            "5/5 [==============================] - 1s 134ms/step\n",
            "R2s: [0.57981181 0.18243235]\n",
            "34/34 [==============================] - 5s 134ms/step\n",
            "5/5 [==============================] - 1s 133ms/step\n"
          ]
        },
        {
          "output_type": "stream",
          "name": "stderr",
          "text": [
            "WARNING:tensorflow:Layer lstm_3 will not use cuDNN kernels since it doesn't meet the criteria. It will use a generic GPU kernel as fallback when running on GPU.\n"
          ]
        },
        {
          "output_type": "stream",
          "name": "stdout",
          "text": [
            "5/5 [==============================] - 1s 168ms/step\n",
            "R2s: [-0.13228007 -0.0553349 ]\n",
            "34/34 [==============================] - 5s 132ms/step\n",
            "5/5 [==============================] - 1s 133ms/step\n"
          ]
        },
        {
          "output_type": "stream",
          "name": "stderr",
          "text": [
            "WARNING:tensorflow:Layer lstm_4 will not use cuDNN kernels since it doesn't meet the criteria. It will use a generic GPU kernel as fallback when running on GPU.\n"
          ]
        },
        {
          "output_type": "stream",
          "name": "stdout",
          "text": [
            "4/4 [==============================] - 1s 139ms/step\n",
            "R2s: [0.21846687 0.26629943]\n",
            "34/34 [==============================] - 5s 136ms/step\n",
            "5/5 [==============================] - 1s 134ms/step\n"
          ]
        },
        {
          "output_type": "stream",
          "name": "stderr",
          "text": [
            "WARNING:tensorflow:Layer lstm_5 will not use cuDNN kernels since it doesn't meet the criteria. It will use a generic GPU kernel as fallback when running on GPU.\n"
          ]
        },
        {
          "output_type": "stream",
          "name": "stdout",
          "text": [
            "5/5 [==============================] - 1s 131ms/step\n",
            "R2s: [0.64762263 0.18817243]\n",
            "34/34 [==============================] - 5s 138ms/step\n",
            "4/4 [==============================] - 1s 138ms/step\n"
          ]
        },
        {
          "output_type": "stream",
          "name": "stderr",
          "text": [
            "WARNING:tensorflow:Layer lstm_6 will not use cuDNN kernels since it doesn't meet the criteria. It will use a generic GPU kernel as fallback when running on GPU.\n"
          ]
        },
        {
          "output_type": "stream",
          "name": "stdout",
          "text": [
            "5/5 [==============================] - 1s 136ms/step\n",
            "R2s: [0.51188288 0.48819941]\n",
            "34/34 [==============================] - 5s 133ms/step\n",
            "5/5 [==============================] - 1s 126ms/step\n"
          ]
        },
        {
          "output_type": "stream",
          "name": "stderr",
          "text": [
            "WARNING:tensorflow:Layer lstm_7 will not use cuDNN kernels since it doesn't meet the criteria. It will use a generic GPU kernel as fallback when running on GPU.\n"
          ]
        },
        {
          "output_type": "stream",
          "name": "stdout",
          "text": [
            "5/5 [==============================] - 1s 131ms/step\n",
            "R2s: [-0.39323229  0.19199097]\n",
            "34/34 [==============================] - 5s 144ms/step\n",
            "5/5 [==============================] - 1s 193ms/step\n"
          ]
        },
        {
          "output_type": "stream",
          "name": "stderr",
          "text": [
            "WARNING:tensorflow:Layer lstm_8 will not use cuDNN kernels since it doesn't meet the criteria. It will use a generic GPU kernel as fallback when running on GPU.\n"
          ]
        },
        {
          "output_type": "stream",
          "name": "stdout",
          "text": [
            "5/5 [==============================] - 1s 130ms/step\n",
            "R2s: [0.0969104  0.57368153]\n",
            "34/34 [==============================] - 4s 132ms/step\n",
            "5/5 [==============================] - 1s 171ms/step\n"
          ]
        },
        {
          "output_type": "stream",
          "name": "stderr",
          "text": [
            "WARNING:tensorflow:Layer lstm_9 will not use cuDNN kernels since it doesn't meet the criteria. It will use a generic GPU kernel as fallback when running on GPU.\n"
          ]
        },
        {
          "output_type": "stream",
          "name": "stdout",
          "text": [
            "5/5 [==============================] - 1s 128ms/step\n",
            "R2s: [-0.14180962 -1.19104582]\n",
            "34/34 [==============================] - 6s 170ms/step\n",
            "5/5 [==============================] - 1s 134ms/step\n"
          ]
        },
        {
          "output_type": "error",
          "ename": "FileNotFoundError",
          "evalue": "ignored",
          "traceback": [
            "\u001b[0;31m---------------------------------------------------------------------------\u001b[0m",
            "\u001b[0;31mFileNotFoundError\u001b[0m                         Traceback (most recent call last)",
            "\u001b[0;32m<ipython-input-13-6e6e35cb6c0b>\u001b[0m in \u001b[0;36m<cell line: 62>\u001b[0;34m()\u001b[0m\n\u001b[1;32m     60\u001b[0m \u001b[0msave_obj\u001b[0m \u001b[0;34m=\u001b[0m \u001b[0;34m{\u001b[0m\u001b[0;34m'y_test_all'\u001b[0m\u001b[0;34m:\u001b[0m\u001b[0my_test_all\u001b[0m\u001b[0;34m,\u001b[0m \u001b[0;34m'y_valid_all'\u001b[0m\u001b[0;34m:\u001b[0m \u001b[0my_valid_all\u001b[0m\u001b[0;34m,\u001b[0m \u001b[0;34m'y_train_all'\u001b[0m\u001b[0;34m:\u001b[0m \u001b[0my_train_all\u001b[0m\u001b[0;34m,\u001b[0m \u001b[0;34m'mean_r2_lstm'\u001b[0m\u001b[0;34m:\u001b[0m \u001b[0mmean_r2_lstm\u001b[0m\u001b[0;34m,\u001b[0m \u001b[0;34m'y_pred_lstm_all'\u001b[0m\u001b[0;34m:\u001b[0m\u001b[0my_pred_lstm_all\u001b[0m\u001b[0;34m,\u001b[0m \u001b[0;34m'y_train_pred_lstm_all'\u001b[0m\u001b[0;34m:\u001b[0m\u001b[0my_train_pred_lstm_all\u001b[0m\u001b[0;34m,\u001b[0m \u001b[0;34m'y_valid_pred_lstm_all'\u001b[0m\u001b[0;34m:\u001b[0m\u001b[0my_valid_pred_lstm_all\u001b[0m\u001b[0;34m,\u001b[0m \u001b[0;34m'X'\u001b[0m\u001b[0;34m:\u001b[0m \u001b[0mX\u001b[0m\u001b[0;34m,\u001b[0m \u001b[0;34m'Y'\u001b[0m\u001b[0;34m:\u001b[0m \u001b[0mY\u001b[0m\u001b[0;34m}\u001b[0m\u001b[0;34m\u001b[0m\u001b[0;34m\u001b[0m\u001b[0m\n\u001b[1;32m     61\u001b[0m \u001b[0;34m\u001b[0m\u001b[0m\n\u001b[0;32m---> 62\u001b[0;31m \u001b[0;32mwith\u001b[0m \u001b[0mopen\u001b[0m\u001b[0;34m(\u001b[0m\u001b[0;34m'results_lstm_all_channels.pickle'\u001b[0m\u001b[0;34m)\u001b[0m \u001b[0;32mas\u001b[0m \u001b[0mf\u001b[0m\u001b[0;34m:\u001b[0m\u001b[0;34m\u001b[0m\u001b[0;34m\u001b[0m\u001b[0m\n\u001b[0m\u001b[1;32m     63\u001b[0m     \u001b[0mpickle\u001b[0m\u001b[0;34m.\u001b[0m\u001b[0mdump\u001b[0m\u001b[0;34m(\u001b[0m\u001b[0msave_obj\u001b[0m\u001b[0;34m,\u001b[0m \u001b[0mf\u001b[0m\u001b[0;34m)\u001b[0m\u001b[0;34m\u001b[0m\u001b[0;34m\u001b[0m\u001b[0m\n",
            "\u001b[0;31mFileNotFoundError\u001b[0m: [Errno 2] No such file or directory: 'results_lstm_all_channels.pickle'"
          ]
        }
      ],
      "source": [
        "for i in range(num_folds):  # Loop through the folds\n",
        "\n",
        "    ######### SPLIT DATA INTO TRAINING/TESTING/VALIDATION #########\n",
        "\n",
        "    # Get testing set for this fold\n",
        "    testing_range = testing_range_all[i]\n",
        "    testing_set = np.arange(int(np.round(testing_range[0] * num_examples)) + num_overlapping_bin,\n",
        "                            int(np.round(testing_range[1] * num_examples)))\n",
        "\n",
        "    # Get validation set for this fold\n",
        "    valid_range = valid_range_all[i]\n",
        "    valid_set = np.arange(int(np.round(valid_range[0] * num_examples)) + num_overlapping_bin,\n",
        "                            int(np.round(valid_range[1] * num_examples)))\n",
        "\n",
        "    # Get training set for this fold.\n",
        "    # Note this needs to take into account a non-contiguous training set (see section 3C)\n",
        "    training_ranges = training_range_all[i]\n",
        "    for j in range(len(training_ranges)):  # Go through different separated portions of the training set\n",
        "        training_range = training_ranges[j]\n",
        "        if j == 0:  # If it's the first portion of the training set, make it the training set\n",
        "            training_set = np.arange(int(np.round(training_range[0] * num_examples)) + num_overlapping_bin,\n",
        "                                        int(np.round(training_range[1] * num_examples)))\n",
        "        if j == 1:  # If it's the second portion of the training set, concatentate it to the first\n",
        "            training_set_temp = np.arange(int(np.round(training_range[0] * num_examples)) + num_overlapping_bin,\n",
        "                                            int(np.round(training_range[1] * num_examples)))\n",
        "            training_set = np.concatenate((training_set, training_set_temp), axis=0)\n",
        "\n",
        "    # Get training data\n",
        "    X_train = X[training_set, :]\n",
        "    y_train = Y[training_set, :]\n",
        "\n",
        "    # Get testing data\n",
        "    X_test = X[testing_set, :]\n",
        "    y_test = Y[testing_set, :]\n",
        "\n",
        "    # Get validation data\n",
        "    X_valid = X[valid_set, :]\n",
        "    y_valid = Y[valid_set, :]\n",
        "\n",
        "\n",
        "    # Add actual train/valid/test data to lists (for saving)\n",
        "    y_test_all.append(y_test)\n",
        "    y_train_all.append(y_train)\n",
        "    y_valid_all.append(y_valid)\n",
        "\n",
        "    # Fit LSTM\n",
        "    # Run model w/ below hyperparameters\n",
        "    model_lstm = LSTMRegression(units=20, dropout=0.18, num_epochs=14)\n",
        "    model_lstm.fit(X_train, y_train)\n",
        "    y_test_predicted_lstm = model_lstm.predict(X_test)\n",
        "    mean_r2_lstm[i] = np.mean(get_R2(y_test, y_test_predicted_lstm))\n",
        "    # Print test set R2\n",
        "    R2s_lstm = get_R2(y_test, y_test_predicted_lstm)\n",
        "    print('R2s:', R2s_lstm)\n",
        "    # Add predictions of training/validation/testing to lists (for saving)\n",
        "    y_pred_lstm_all.append(y_test_predicted_lstm)\n",
        "    y_train_pred_lstm_all.append(model_lstm.predict(X_train))\n",
        "    y_valid_pred_lstm_all.append(model_lstm.predict(X_valid))\n",
        "\n",
        "save_obj = {'y_test_all':y_test_all, 'y_valid_all': y_valid_all, 'y_train_all': y_train_all, 'mean_r2_lstm': mean_r2_lstm, 'y_pred_lstm_all':y_pred_lstm_all, 'y_train_pred_lstm_all':y_train_pred_lstm_all, 'y_valid_pred_lstm_all':y_valid_pred_lstm_all, 'X': X, 'Y': Y}\n",
        "\n",
        "with open('results_lstm_all_channels.pickle') as f:\n",
        "    pickle.dump(save_obj, f)\n"
      ],
      "id": "e4d58a4f"
    },
    {
      "cell_type": "code",
      "source": [
        "import pickle\n",
        "\n",
        "# save to Google drive\n",
        "filename = 'results_lstm_all_channels'\n",
        "filehandler = open(filename, 'wb')\n",
        "pickle.dump(save_obj, filehandler)"
      ],
      "metadata": {
        "id": "9XjXIK5tmG6M"
      },
      "id": "9XjXIK5tmG6M",
      "execution_count": 16,
      "outputs": []
    },
    {
      "cell_type": "code",
      "execution_count": 25,
      "metadata": {
        "id": "c9a4a510",
        "colab": {
          "base_uri": "https://localhost:8080/"
        },
        "outputId": "e7979e73-21e7-402c-ded1-4d8a9b2e9751"
      },
      "outputs": [
        {
          "output_type": "execute_result",
          "data": {
            "text/plain": [
              "(129, 2)"
            ]
          },
          "metadata": {},
          "execution_count": 25
        }
      ],
      "source": [
        "# figures\n",
        "y_pred_lstm_all[0].shape"
      ],
      "id": "c9a4a510"
    },
    {
      "cell_type": "code",
      "source": [
        "plt.figure(figsize=(10, 6))\n",
        "fig, axs = plt.subplots(2)\n",
        "fig.suptitle('Test set 1')\n",
        "axs[0].plot(y_test_all[0][:,0])\n",
        "axs[0].plot(y_pred_lstm_all[0][:,0])\n",
        "axs[0].legend(['cursor x (true)', 'cursor x (predicted)'])\n",
        "axs[1].plot(y_test_all[0][:,1])\n",
        "axs[1].plot(y_pred_lstm_all[0][:,1])\n",
        "axs[1].legend(['cursor y (true)', 'cursor y (predicted)'])\n"
      ],
      "metadata": {
        "colab": {
          "base_uri": "https://localhost:8080/",
          "height": 513
        },
        "id": "_2AEv-o0nSlS",
        "outputId": "1302d63e-0676-4ced-c922-68919554390f"
      },
      "id": "_2AEv-o0nSlS",
      "execution_count": 27,
      "outputs": [
        {
          "output_type": "execute_result",
          "data": {
            "text/plain": [
              "<matplotlib.legend.Legend at 0x795c0aaff550>"
            ]
          },
          "metadata": {},
          "execution_count": 27
        },
        {
          "output_type": "display_data",
          "data": {
            "text/plain": [
              "<Figure size 1000x600 with 0 Axes>"
            ]
          },
          "metadata": {}
        },
        {
          "output_type": "display_data",
          "data": {
            "text/plain": [
              "<Figure size 640x480 with 2 Axes>"
            ],
            "image/png": "[encoded data removed]"
          },
          "metadata": {}
        }
      ]
    },
    {
      "cell_type": "code",
      "source": [
        "# accuracy\n",
        "# Compare with previous RNN\n",
        "# If the difference between the true and predicted cursor position is less than 0.1, it is considered as correct.\n",
        "# The performance of previous RNN model is 54%\n",
        "\n",
        "# x position\n",
        "diff = [np.linalg.norm(y_pred_lstm_all[0][i,0] - y_test_all[0][i,0]) for i in range(len(y_test_all[0][:,0]))]\n",
        "x_precentages = len(np.where(np.array(diff) < 0.1)[0])/len(diff)\n",
        "\n",
        "# y position\n",
        "diff = [np.linalg.norm(y_pred_lstm_all[0][i,1] - y_test_all[0][i,1]) for i in range(len(y_test_all[0][:,0]))]\n",
        "y_precentages = len(np.where(np.array(diff) < 0.1)[0])/len(diff)"
      ],
      "metadata": {
        "id": "hZa66r4sPWJv"
      },
      "id": "hZa66r4sPWJv",
      "execution_count": 28,
      "outputs": []
    },
    {
      "cell_type": "code",
      "source": [
        "precentages"
      ],
      "metadata": {
        "colab": {
          "base_uri": "https://localhost:8080/"
        },
        "id": "LmuItQjtpWzu",
        "outputId": "a970702a-04db-4d9d-e464-069a7737fa6c"
      },
      "id": "LmuItQjtpWzu",
      "execution_count": 32,
      "outputs": [
        {
          "output_type": "execute_result",
          "data": {
            "text/plain": [
              "0.34108527131782945"
            ]
          },
          "metadata": {},
          "execution_count": 32
        }
      ]
    },
    {
      "cell_type": "code",
      "source": [],
      "metadata": {
        "id": "pY5XfcQ6pZFq"
      },
      "id": "pY5XfcQ6pZFq",
      "execution_count": 31,
      "outputs": []
    },
    {
      "cell_type": "code",
      "source": [],
      "metadata": {
        "id": "QfHOabXHpmKw"
      },
      "id": "QfHOabXHpmKw",
      "execution_count": null,
      "outputs": []
    }
  ],
  "metadata": {
    "accelerator": "GPU",
    "colab": {
      "provenance": [],
      "gpuType": "T4"
    },
    "kernelspec": {
      "display_name": "Python 3",
      "name": "python3"
    },
    "language_info": {
      "codemirror_mode": {
        "name": "ipython",
        "version": 3
      },
      "file_extension": ".py",
      "mimetype": "text/x-python",
      "name": "python",
      "nbconvert_exporter": "python",
      "pygments_lexer": "ipython3",
      "version": "3.9.17"
    }
  },
  "nbformat": 4,
  "nbformat_minor": 5
}